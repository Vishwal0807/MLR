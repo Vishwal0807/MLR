{
 "cells": [
  {
   "cell_type": "markdown",
   "id": "fda7e4c7",
   "metadata": {},
   "source": [
    "## MULTIPLE LINEAR REGRESSION MODEL FOR BUILDING THE PREDICTION MODEL OF: Managed Aquifer Recharge Precipitation"
   ]
  },
  {
   "cell_type": "markdown",
   "id": "e5f4d942",
   "metadata": {},
   "source": [
    "# Objective:\n",
    "* To identify which factor has more impact on Managed Aquifer Recharge(MAR)- (PPT) Parts Per Thousand(7100cm) i.e. (MAR_PPT7100_CM).\n",
    "* To build the Model which will help to Predict the future MAR PPT 7100cm based on water precipitation, drain area and relative humidity (RH)."
   ]
  },
  {
   "cell_type": "code",
   "execution_count": 2,
   "id": "1c621a21",
   "metadata": {},
   "outputs": [],
   "source": [
    "import pandas as pd \n",
    "import numpy as np \n",
    "\n",
    "################# Machine Learning ################\n",
    "import statsmodels\n",
    "from statsmodels.stats.anova import anova_lm\n",
    "from statsmodels.stats.outliers_influence import variance_inflation_factor\n",
    "\n",
    "################# Data Visualization ################\n",
    "import seaborn as sns\n",
    "from matplotlib import pyplot as plt\n",
    "%matplotlib inline"
   ]
  },
  {
   "cell_type": "markdown",
   "id": "4b430504",
   "metadata": {},
   "source": [
    "# Data Import"
   ]
  },
  {
   "cell_type": "code",
   "execution_count": 80,
   "id": "96b1d771",
   "metadata": {
    "scrolled": true
   },
   "outputs": [
    {
     "data": {
      "text/html": [
       "<div>\n",
       "<style scoped>\n",
       "    .dataframe tbody tr th:only-of-type {\n",
       "        vertical-align: middle;\n",
       "    }\n",
       "\n",
       "    .dataframe tbody tr th {\n",
       "        vertical-align: top;\n",
       "    }\n",
       "\n",
       "    .dataframe thead th {\n",
       "        text-align: right;\n",
       "    }\n",
       "</style>\n",
       "<table border=\"1\" class=\"dataframe\">\n",
       "  <thead>\n",
       "    <tr style=\"text-align: right;\">\n",
       "      <th></th>\n",
       "      <th>SITE No.</th>\n",
       "      <th>max90</th>\n",
       "      <th>DRAIN_SQKM</th>\n",
       "      <th>PPTAVG_BASIN</th>\n",
       "      <th>T_AVG_BASIN</th>\n",
       "      <th>T_AVG_SITE</th>\n",
       "      <th>RH_BASIN</th>\n",
       "      <th>MAR_PPT7100_CM</th>\n",
       "      <th>RRMEDIAN</th>\n",
       "    </tr>\n",
       "  </thead>\n",
       "  <tbody>\n",
       "    <tr>\n",
       "      <th>0</th>\n",
       "      <td>1013500</td>\n",
       "      <td>12440.0</td>\n",
       "      <td>2252.6960</td>\n",
       "      <td>97.4178</td>\n",
       "      <td>3.004670</td>\n",
       "      <td>3.0</td>\n",
       "      <td>71.67319</td>\n",
       "      <td>6.317267</td>\n",
       "      <td>0.214765</td>\n",
       "    </tr>\n",
       "    <tr>\n",
       "      <th>1</th>\n",
       "      <td>1022500</td>\n",
       "      <td>6343.0</td>\n",
       "      <td>573.6006</td>\n",
       "      <td>120.0702</td>\n",
       "      <td>5.945692</td>\n",
       "      <td>6.3</td>\n",
       "      <td>68.82603</td>\n",
       "      <td>10.675010</td>\n",
       "      <td>0.162037</td>\n",
       "    </tr>\n",
       "    <tr>\n",
       "      <th>2</th>\n",
       "      <td>1030500</td>\n",
       "      <td>23680.0</td>\n",
       "      <td>3676.1720</td>\n",
       "      <td>108.1906</td>\n",
       "      <td>4.815170</td>\n",
       "      <td>5.4</td>\n",
       "      <td>69.60340</td>\n",
       "      <td>8.694030</td>\n",
       "      <td>0.138599</td>\n",
       "    </tr>\n",
       "    <tr>\n",
       "      <th>3</th>\n",
       "      <td>1031500</td>\n",
       "      <td>12200.0</td>\n",
       "      <td>769.0482</td>\n",
       "      <td>118.0008</td>\n",
       "      <td>4.143458</td>\n",
       "      <td>4.9</td>\n",
       "      <td>68.47412</td>\n",
       "      <td>9.538659</td>\n",
       "      <td>0.284875</td>\n",
       "    </tr>\n",
       "    <tr>\n",
       "      <th>4</th>\n",
       "      <td>1047000</td>\n",
       "      <td>14730.0</td>\n",
       "      <td>909.0972</td>\n",
       "      <td>118.8615</td>\n",
       "      <td>3.990672</td>\n",
       "      <td>5.6</td>\n",
       "      <td>68.73347</td>\n",
       "      <td>9.503299</td>\n",
       "      <td>0.201850</td>\n",
       "    </tr>\n",
       "    <tr>\n",
       "      <th>...</th>\n",
       "      <td>...</td>\n",
       "      <td>...</td>\n",
       "      <td>...</td>\n",
       "      <td>...</td>\n",
       "      <td>...</td>\n",
       "      <td>...</td>\n",
       "      <td>...</td>\n",
       "      <td>...</td>\n",
       "      <td>...</td>\n",
       "    </tr>\n",
       "    <tr>\n",
       "      <th>288</th>\n",
       "      <td>14305500</td>\n",
       "      <td>23730.0</td>\n",
       "      <td>526.3299</td>\n",
       "      <td>283.6101</td>\n",
       "      <td>9.598534</td>\n",
       "      <td>10.8</td>\n",
       "      <td>74.50171</td>\n",
       "      <td>31.650220</td>\n",
       "      <td>0.312321</td>\n",
       "    </tr>\n",
       "    <tr>\n",
       "      <th>289</th>\n",
       "      <td>14306500</td>\n",
       "      <td>23160.0</td>\n",
       "      <td>857.1636</td>\n",
       "      <td>210.8768</td>\n",
       "      <td>11.580460</td>\n",
       "      <td>11.9</td>\n",
       "      <td>73.79094</td>\n",
       "      <td>23.884840</td>\n",
       "      <td>0.221679</td>\n",
       "    </tr>\n",
       "    <tr>\n",
       "      <th>290</th>\n",
       "      <td>14309500</td>\n",
       "      <td>6867.0</td>\n",
       "      <td>224.9208</td>\n",
       "      <td>135.5243</td>\n",
       "      <td>10.815260</td>\n",
       "      <td>11.1</td>\n",
       "      <td>71.13673</td>\n",
       "      <td>16.212110</td>\n",
       "      <td>0.413828</td>\n",
       "    </tr>\n",
       "    <tr>\n",
       "      <th>291</th>\n",
       "      <td>14316700</td>\n",
       "      <td>15530.0</td>\n",
       "      <td>587.8989</td>\n",
       "      <td>151.9316</td>\n",
       "      <td>10.132230</td>\n",
       "      <td>10.8</td>\n",
       "      <td>70.79336</td>\n",
       "      <td>17.482390</td>\n",
       "      <td>0.388019</td>\n",
       "    </tr>\n",
       "    <tr>\n",
       "      <th>292</th>\n",
       "      <td>14325000</td>\n",
       "      <td>17630.0</td>\n",
       "      <td>443.0745</td>\n",
       "      <td>227.2745</td>\n",
       "      <td>11.399190</td>\n",
       "      <td>11.9</td>\n",
       "      <td>70.30076</td>\n",
       "      <td>27.806140</td>\n",
       "      <td>0.540494</td>\n",
       "    </tr>\n",
       "  </tbody>\n",
       "</table>\n",
       "<p>293 rows × 9 columns</p>\n",
       "</div>"
      ],
      "text/plain": [
       "     SITE No.    max90  DRAIN_SQKM  PPTAVG_BASIN  T_AVG_BASIN  T_AVG_SITE  \\\n",
       "0     1013500  12440.0   2252.6960       97.4178     3.004670         3.0   \n",
       "1     1022500   6343.0    573.6006      120.0702     5.945692         6.3   \n",
       "2     1030500  23680.0   3676.1720      108.1906     4.815170         5.4   \n",
       "3     1031500  12200.0    769.0482      118.0008     4.143458         4.9   \n",
       "4     1047000  14730.0    909.0972      118.8615     3.990672         5.6   \n",
       "..        ...      ...         ...           ...          ...         ...   \n",
       "288  14305500  23730.0    526.3299      283.6101     9.598534        10.8   \n",
       "289  14306500  23160.0    857.1636      210.8768    11.580460        11.9   \n",
       "290  14309500   6867.0    224.9208      135.5243    10.815260        11.1   \n",
       "291  14316700  15530.0    587.8989      151.9316    10.132230        10.8   \n",
       "292  14325000  17630.0    443.0745      227.2745    11.399190        11.9   \n",
       "\n",
       "     RH_BASIN  MAR_PPT7100_CM  RRMEDIAN  \n",
       "0    71.67319        6.317267  0.214765  \n",
       "1    68.82603       10.675010  0.162037  \n",
       "2    69.60340        8.694030  0.138599  \n",
       "3    68.47412        9.538659  0.284875  \n",
       "4    68.73347        9.503299  0.201850  \n",
       "..        ...             ...       ...  \n",
       "288  74.50171       31.650220  0.312321  \n",
       "289  73.79094       23.884840  0.221679  \n",
       "290  71.13673       16.212110  0.413828  \n",
       "291  70.79336       17.482390  0.388019  \n",
       "292  70.30076       27.806140  0.540494  \n",
       "\n",
       "[293 rows x 9 columns]"
      ]
     },
     "execution_count": 80,
     "metadata": {},
     "output_type": "execute_result"
    }
   ],
   "source": [
    "new = pd.read_excel(r\"C:\\Users\\dell\\Desktop\\Machine Learning\\reg_data.xlsx\")\n",
    "new"
   ]
  },
  {
   "cell_type": "markdown",
   "id": "769d32b2",
   "metadata": {},
   "source": [
    "# Data Type "
   ]
  },
  {
   "cell_type": "code",
   "execution_count": 5,
   "id": "4ddfbdda",
   "metadata": {},
   "outputs": [
    {
     "name": "stdout",
     "output_type": "stream",
     "text": [
      "<class 'pandas.core.frame.DataFrame'>\n",
      "RangeIndex: 293 entries, 0 to 292\n",
      "Data columns (total 9 columns):\n",
      " #   Column          Non-Null Count  Dtype  \n",
      "---  ------          --------------  -----  \n",
      " 0   SITE No.        293 non-null    int64  \n",
      " 1   max90           293 non-null    float64\n",
      " 2   DRAIN_SQKM      293 non-null    float64\n",
      " 3   PPTAVG_BASIN    293 non-null    float64\n",
      " 4   T_AVG_BASIN     293 non-null    float64\n",
      " 5   T_AVG_SITE      293 non-null    float64\n",
      " 6   RH_BASIN        293 non-null    float64\n",
      " 7   MAR_PPT7100_CM  293 non-null    float64\n",
      " 8   RRMEDIAN        293 non-null    float64\n",
      "dtypes: float64(8), int64(1)\n",
      "memory usage: 20.7 KB\n"
     ]
    }
   ],
   "source": [
    "new.info()"
   ]
  },
  {
   "cell_type": "markdown",
   "id": "57649f3c",
   "metadata": {},
   "source": [
    "# Univariate Analysis"
   ]
  },
  {
   "cell_type": "code",
   "execution_count": 6,
   "id": "9e0c8793",
   "metadata": {},
   "outputs": [
    {
     "data": {
      "text/html": [
       "<div>\n",
       "<style scoped>\n",
       "    .dataframe tbody tr th:only-of-type {\n",
       "        vertical-align: middle;\n",
       "    }\n",
       "\n",
       "    .dataframe tbody tr th {\n",
       "        vertical-align: top;\n",
       "    }\n",
       "\n",
       "    .dataframe thead th {\n",
       "        text-align: right;\n",
       "    }\n",
       "</style>\n",
       "<table border=\"1\" class=\"dataframe\">\n",
       "  <thead>\n",
       "    <tr style=\"text-align: right;\">\n",
       "      <th></th>\n",
       "      <th>SITE No.</th>\n",
       "      <th>max90</th>\n",
       "      <th>DRAIN_SQKM</th>\n",
       "      <th>PPTAVG_BASIN</th>\n",
       "      <th>T_AVG_BASIN</th>\n",
       "      <th>T_AVG_SITE</th>\n",
       "      <th>RH_BASIN</th>\n",
       "      <th>MAR_PPT7100_CM</th>\n",
       "      <th>RRMEDIAN</th>\n",
       "    </tr>\n",
       "  </thead>\n",
       "  <tbody>\n",
       "    <tr>\n",
       "      <th>count</th>\n",
       "      <td>2.930000e+02</td>\n",
       "      <td>293.000000</td>\n",
       "      <td>293.000000</td>\n",
       "      <td>293.000000</td>\n",
       "      <td>293.000000</td>\n",
       "      <td>293.000000</td>\n",
       "      <td>293.000000</td>\n",
       "      <td>293.000000</td>\n",
       "      <td>293.000000</td>\n",
       "    </tr>\n",
       "    <tr>\n",
       "      <th>mean</th>\n",
       "      <td>5.940630e+06</td>\n",
       "      <td>9272.692969</td>\n",
       "      <td>1102.690735</td>\n",
       "      <td>120.167864</td>\n",
       "      <td>9.414611</td>\n",
       "      <td>10.336177</td>\n",
       "      <td>66.688023</td>\n",
       "      <td>11.407790</td>\n",
       "      <td>0.414662</td>\n",
       "    </tr>\n",
       "    <tr>\n",
       "      <th>std</th>\n",
       "      <td>4.230214e+06</td>\n",
       "      <td>10614.178934</td>\n",
       "      <td>2201.065658</td>\n",
       "      <td>54.461900</td>\n",
       "      <td>4.530652</td>\n",
       "      <td>4.288227</td>\n",
       "      <td>6.589742</td>\n",
       "      <td>6.816851</td>\n",
       "      <td>0.136023</td>\n",
       "    </tr>\n",
       "    <tr>\n",
       "      <th>min</th>\n",
       "      <td>1.013500e+06</td>\n",
       "      <td>16.030000</td>\n",
       "      <td>5.376711</td>\n",
       "      <td>37.775550</td>\n",
       "      <td>-1.580190</td>\n",
       "      <td>-0.400000</td>\n",
       "      <td>41.109790</td>\n",
       "      <td>1.738929</td>\n",
       "      <td>0.080420</td>\n",
       "    </tr>\n",
       "    <tr>\n",
       "      <th>25%</th>\n",
       "      <td>2.065500e+06</td>\n",
       "      <td>2231.000000</td>\n",
       "      <td>208.685700</td>\n",
       "      <td>88.460860</td>\n",
       "      <td>5.908310</td>\n",
       "      <td>7.300000</td>\n",
       "      <td>65.736980</td>\n",
       "      <td>7.303559</td>\n",
       "      <td>0.316517</td>\n",
       "    </tr>\n",
       "    <tr>\n",
       "      <th>50%</th>\n",
       "      <td>5.362000e+06</td>\n",
       "      <td>5646.000000</td>\n",
       "      <td>450.198900</td>\n",
       "      <td>114.684900</td>\n",
       "      <td>9.044242</td>\n",
       "      <td>10.000000</td>\n",
       "      <td>67.787320</td>\n",
       "      <td>9.876296</td>\n",
       "      <td>0.413793</td>\n",
       "    </tr>\n",
       "    <tr>\n",
       "      <th>75%</th>\n",
       "      <td>9.223000e+06</td>\n",
       "      <td>13670.000000</td>\n",
       "      <td>1151.567000</td>\n",
       "      <td>131.405500</td>\n",
       "      <td>12.188860</td>\n",
       "      <td>12.900000</td>\n",
       "      <td>70.239780</td>\n",
       "      <td>12.260880</td>\n",
       "      <td>0.513699</td>\n",
       "    </tr>\n",
       "    <tr>\n",
       "      <th>max</th>\n",
       "      <td>1.432500e+07</td>\n",
       "      <td>81900.000000</td>\n",
       "      <td>25791.040000</td>\n",
       "      <td>334.167800</td>\n",
       "      <td>22.500220</td>\n",
       "      <td>22.500000</td>\n",
       "      <td>84.201140</td>\n",
       "      <td>37.370240</td>\n",
       "      <td>0.710843</td>\n",
       "    </tr>\n",
       "  </tbody>\n",
       "</table>\n",
       "</div>"
      ],
      "text/plain": [
       "           SITE No.         max90    DRAIN_SQKM  PPTAVG_BASIN  T_AVG_BASIN  \\\n",
       "count  2.930000e+02    293.000000    293.000000    293.000000   293.000000   \n",
       "mean   5.940630e+06   9272.692969   1102.690735    120.167864     9.414611   \n",
       "std    4.230214e+06  10614.178934   2201.065658     54.461900     4.530652   \n",
       "min    1.013500e+06     16.030000      5.376711     37.775550    -1.580190   \n",
       "25%    2.065500e+06   2231.000000    208.685700     88.460860     5.908310   \n",
       "50%    5.362000e+06   5646.000000    450.198900    114.684900     9.044242   \n",
       "75%    9.223000e+06  13670.000000   1151.567000    131.405500    12.188860   \n",
       "max    1.432500e+07  81900.000000  25791.040000    334.167800    22.500220   \n",
       "\n",
       "       T_AVG_SITE    RH_BASIN  MAR_PPT7100_CM    RRMEDIAN  \n",
       "count  293.000000  293.000000      293.000000  293.000000  \n",
       "mean    10.336177   66.688023       11.407790    0.414662  \n",
       "std      4.288227    6.589742        6.816851    0.136023  \n",
       "min     -0.400000   41.109790        1.738929    0.080420  \n",
       "25%      7.300000   65.736980        7.303559    0.316517  \n",
       "50%     10.000000   67.787320        9.876296    0.413793  \n",
       "75%     12.900000   70.239780       12.260880    0.513699  \n",
       "max     22.500000   84.201140       37.370240    0.710843  "
      ]
     },
     "execution_count": 6,
     "metadata": {},
     "output_type": "execute_result"
    }
   ],
   "source": [
    "new.describe()"
   ]
  },
  {
   "cell_type": "markdown",
   "id": "9e4feb2a",
   "metadata": {},
   "source": [
    "## Missing Value"
   ]
  },
  {
   "cell_type": "code",
   "execution_count": 9,
   "id": "ee1c3f43",
   "metadata": {},
   "outputs": [
    {
     "data": {
      "text/plain": [
       "SITE No.          0\n",
       "max90             0\n",
       "DRAIN_SQKM        0\n",
       "PPTAVG_BASIN      0\n",
       "T_AVG_BASIN       0\n",
       "T_AVG_SITE        0\n",
       "RH_BASIN          0\n",
       "MAR_PPT7100_CM    0\n",
       "RRMEDIAN          0\n",
       "dtype: int64"
      ]
     },
     "execution_count": 9,
     "metadata": {},
     "output_type": "execute_result"
    }
   ],
   "source": [
    "new.isna().sum()"
   ]
  },
  {
   "cell_type": "markdown",
   "id": "d280e267",
   "metadata": {},
   "source": [
    "# EDA\n",
    "* Identify & Treatment of Outlier "
   ]
  },
  {
   "cell_type": "code",
   "execution_count": 81,
   "id": "17531ba3",
   "metadata": {},
   "outputs": [
    {
     "data": {
      "text/plain": [
       "<AxesSubplot:>"
      ]
     },
     "execution_count": 81,
     "metadata": {},
     "output_type": "execute_result"
    },
    {
     "data": {
      "image/png": "[encoded data removed]",
      "text/plain": [
       "<Figure size 640x480 with 1 Axes>"
      ]
     },
     "metadata": {},
     "output_type": "display_data"
    }
   ],
   "source": [
    "sns.boxplot(data = new)"
   ]
  },
  {
   "cell_type": "markdown",
   "id": "3d2ec943",
   "metadata": {},
   "source": [
    "## Treatment of Outlier -- Winsorizing Technique"
   ]
  },
  {
   "cell_type": "code",
   "execution_count": 27,
   "id": "7b816a58",
   "metadata": {},
   "outputs": [],
   "source": [
    "q1 = new['SITE No.'].quantile(0.25)\n",
    "q3 = new['SITE No.'].quantile(0.75)\n",
    "iqr = q3-q1 #Interquartile range\n",
    "\n",
    "upper_limit = q3+1.5*iqr\n",
    "lower_limit = q3-1.5*iqr\n",
    "\n",
    "new['SITE No.']=np.where(new['SITE No.'] > upper_limit,upper_limit,new['SITE No.'])\n",
    "new['SITE No.']=np.where(new['SITE No.'] < lower_limit,lower_limit,new['SITE No.'])"
   ]
  },
  {
   "cell_type": "code",
   "execution_count": 19,
   "id": "ad023456",
   "metadata": {},
   "outputs": [],
   "source": [
    "q1 = new['max90'].quantile(0.25)\n",
    "q3 = new['max90'].quantile(0.75)\n",
    "iqr = q3-q1 #Interquartile range\n",
    "\n",
    "upper_limit = q3+1.5*iqr\n",
    "lower_limit = q3-1.5*iqr\n",
    "\n",
    "new['max90']=np.where(new['max90'] > upper_limit,upper_limit,new['max90'])\n",
    "new['max90']=np.where(new['max90'] < lower_limit,lower_limit,new['max90'])"
   ]
  },
  {
   "cell_type": "code",
   "execution_count": 20,
   "id": "e0a5c92f",
   "metadata": {},
   "outputs": [],
   "source": [
    "q1 = new['DRAIN_SQKM'].quantile(0.25)\n",
    "q3 = new['DRAIN_SQKM'].quantile(0.75)\n",
    "iqr = q3-q1 #Interquartile range\n",
    "\n",
    "upper_limit = q3+1.5*iqr\n",
    "lower_limit = q3-1.5*iqr\n",
    "\n",
    "new['DRAIN_SQKM']=np.where(new['DRAIN_SQKM'] > upper_limit,upper_limit,new['DRAIN_SQKM'])\n",
    "new['DRAIN_SQKM']=np.where(new['DRAIN_SQKM'] < lower_limit,lower_limit,new['DRAIN_SQKM'])"
   ]
  },
  {
   "cell_type": "code",
   "execution_count": 21,
   "id": "b510ca70",
   "metadata": {},
   "outputs": [],
   "source": [
    "q1 = new['PPTAVG_BASIN'].quantile(0.25)\n",
    "q3 = new['PPTAVG_BASIN'].quantile(0.75)\n",
    "iqr = q3-q1 #Interquartile range\n",
    "\n",
    "upper_limit = q3+1.5*iqr\n",
    "lower_limit = q3-1.5*iqr\n",
    "\n",
    "new['PPTAVG_BASIN']=np.where(new['PPTAVG_BASIN'] > upper_limit,upper_limit,new['PPTAVG_BASIN'])\n",
    "new['PPTAVG_BASIN']=np.where(new['PPTAVG_BASIN'] < lower_limit,lower_limit,new['PPTAVG_BASIN'])"
   ]
  },
  {
   "cell_type": "code",
   "execution_count": 22,
   "id": "a9dccba9",
   "metadata": {},
   "outputs": [],
   "source": [
    "q1 = new['T_AVG_BASIN'].quantile(0.25)\n",
    "q3 = new['T_AVG_BASIN'].quantile(0.75)\n",
    "iqr = q3-q1 #Interquartile range\n",
    "\n",
    "upper_limit = q3+1.5*iqr\n",
    "lower_limit = q3-1.5*iqr\n",
    "\n",
    "new['T_AVG_BASIN']=np.where(new['T_AVG_BASIN'] > upper_limit,upper_limit,new['T_AVG_BASIN'])\n",
    "new['T_AVG_BASIN']=np.where(new['T_AVG_BASIN'] < lower_limit,lower_limit,new['T_AVG_BASIN'])"
   ]
  },
  {
   "cell_type": "code",
   "execution_count": 23,
   "id": "d8510051",
   "metadata": {},
   "outputs": [],
   "source": [
    "q1 = new['T_AVG_SITE'].quantile(0.25)\n",
    "q3 = new['T_AVG_SITE'].quantile(0.75)\n",
    "iqr = q3-q1 #Interquartile range\n",
    "\n",
    "upper_limit = q3+1.5*iqr\n",
    "lower_limit = q3-1.5*iqr\n",
    "\n",
    "new['T_AVG_SITE']=np.where(new['T_AVG_SITE'] > upper_limit,upper_limit,new['T_AVG_SITE'])\n",
    "new['T_AVG_SITE']=np.where(new['T_AVG_SITE'] < lower_limit,lower_limit,new['T_AVG_SITE'])"
   ]
  },
  {
   "cell_type": "code",
   "execution_count": 24,
   "id": "5fb8ac30",
   "metadata": {},
   "outputs": [],
   "source": [
    "q1 = new['RH_BASIN'].quantile(0.25)\n",
    "q3 = new['RH_BASIN'].quantile(0.75)\n",
    "iqr = q3-q1 #Interquartile range\n",
    "\n",
    "upper_limit = q3+1.5*iqr\n",
    "lower_limit = q3-1.5*iqr\n",
    "\n",
    "new['RH_BASIN']=np.where(new['RH_BASIN'] > upper_limit,upper_limit,new['RH_BASIN'])\n",
    "new['RH_BASIN']=np.where(new['RH_BASIN'] < lower_limit,lower_limit,new['RH_BASIN'])"
   ]
  },
  {
   "cell_type": "code",
   "execution_count": 25,
   "id": "ea858f9c",
   "metadata": {},
   "outputs": [],
   "source": [
    "q1 = new['MAR_PPT7100_CM'].quantile(0.25)\n",
    "q3 = new['MAR_PPT7100_CM'].quantile(0.75)\n",
    "iqr = q3-q1 #Interquartile range\n",
    "\n",
    "upper_limit = q3+1.5*iqr\n",
    "lower_limit = q3-1.5*iqr\n",
    "\n",
    "new['MAR_PPT7100_CM']=np.where(new['MAR_PPT7100_CM'] > upper_limit,upper_limit,new['MAR_PPT7100_CM'])\n",
    "new['MAR_PPT7100_CM']=np.where(new['MAR_PPT7100_CM'] < lower_limit,lower_limit,new['MAR_PPT7100_CM'])"
   ]
  },
  {
   "cell_type": "code",
   "execution_count": 26,
   "id": "f6936307",
   "metadata": {},
   "outputs": [],
   "source": [
    "q1 = new['RRMEDIAN'].quantile(0.25)\n",
    "q3 = new['RRMEDIAN'].quantile(0.75)\n",
    "iqr = q3-q1 #Interquartile range\n",
    "\n",
    "upper_limit = q3+1.5*iqr\n",
    "lower_limit = q3-1.5*iqr\n",
    "\n",
    "new['RRMEDIAN']=np.where(new['RRMEDIAN'] > upper_limit,upper_limit,new['RRMEDIAN'])\n",
    "new['RRMEDIAN']=np.where(new['RRMEDIAN'] < lower_limit,lower_limit,new['RRMEDIAN'])"
   ]
  },
  {
   "cell_type": "code",
   "execution_count": 28,
   "id": "008f880d",
   "metadata": {},
   "outputs": [
    {
     "data": {
      "text/plain": [
       "<AxesSubplot:>"
      ]
     },
     "execution_count": 28,
     "metadata": {},
     "output_type": "execute_result"
    },
    {
     "data": {
      "image/png": "[encoded data removed]",
      "text/plain": [
       "<Figure size 640x480 with 1 Axes>"
      ]
     },
     "metadata": {},
     "output_type": "display_data"
    }
   ],
   "source": [
    "sns.boxplot(data = new)"
   ]
  },
  {
   "cell_type": "markdown",
   "id": "149e4f06",
   "metadata": {},
   "source": [
    "# Step 3 : Splitting the data in Training and Test set\n",
    "* Using sklearn we split 70% of our data into training set and rest in test set.\n",
    "* Setting random_state will give the same training and test set everytime on running the code"
   ]
  },
  {
   "cell_type": "code",
   "execution_count": 33,
   "id": "026ef7d2",
   "metadata": {},
   "outputs": [],
   "source": [
    "# Putting feature variable to X\n",
    "X = new.drop('MAR_PPT7100_CM', axis= 1)\n",
    "\n",
    "# Putting response variable to y\n",
    "y = new[['MAR_PPT7100_CM']]\n",
    "\n",
    "#random_state is the seed used by the random number generator. It can be any integer.\n",
    "from sklearn.model_selection import train_test_split\n",
    "X_train, X_test, y_train, y_test =train_test_split(X, y, train_size=0.7 ,random_state=111)"
   ]
  },
  {
   "cell_type": "code",
   "execution_count": 32,
   "id": "597dc701",
   "metadata": {},
   "outputs": [
    {
     "data": {
      "text/html": [
       "<div>\n",
       "<style scoped>\n",
       "    .dataframe tbody tr th:only-of-type {\n",
       "        vertical-align: middle;\n",
       "    }\n",
       "\n",
       "    .dataframe tbody tr th {\n",
       "        vertical-align: top;\n",
       "    }\n",
       "\n",
       "    .dataframe thead th {\n",
       "        text-align: right;\n",
       "    }\n",
       "</style>\n",
       "<table border=\"1\" class=\"dataframe\">\n",
       "  <thead>\n",
       "    <tr style=\"text-align: right;\">\n",
       "      <th></th>\n",
       "      <th>RRMEDIAN</th>\n",
       "      <th>SITE No.</th>\n",
       "      <th>max90</th>\n",
       "      <th>DRAIN_SQKM</th>\n",
       "      <th>PPTAVG_BASIN</th>\n",
       "      <th>T_AVG_BASIN</th>\n",
       "      <th>T_AVG_SITE</th>\n",
       "      <th>RH_BASIN</th>\n",
       "      <th>MAR_PPT7100_CM</th>\n",
       "    </tr>\n",
       "  </thead>\n",
       "  <tbody>\n",
       "    <tr>\n",
       "      <th>96</th>\n",
       "      <td>0.474576</td>\n",
       "      <td>2472500.0</td>\n",
       "      <td>13510.0</td>\n",
       "      <td>789.9363</td>\n",
       "      <td>154.27490</td>\n",
       "      <td>18.157630</td>\n",
       "      <td>18.3</td>\n",
       "      <td>72.66047</td>\n",
       "      <td>16.444390</td>\n",
       "    </tr>\n",
       "    <tr>\n",
       "      <th>200</th>\n",
       "      <td>0.343137</td>\n",
       "      <td>7167500.0</td>\n",
       "      <td>11820.0</td>\n",
       "      <td>319.6179</td>\n",
       "      <td>94.35417</td>\n",
       "      <td>13.814480</td>\n",
       "      <td>13.6</td>\n",
       "      <td>63.52230</td>\n",
       "      <td>7.297830</td>\n",
       "    </tr>\n",
       "    <tr>\n",
       "      <th>221</th>\n",
       "      <td>0.546771</td>\n",
       "      <td>10234500.0</td>\n",
       "      <td>623.6</td>\n",
       "      <td>236.4192</td>\n",
       "      <td>75.93198</td>\n",
       "      <td>3.865026</td>\n",
       "      <td>7.6</td>\n",
       "      <td>63.48558</td>\n",
       "      <td>9.642220</td>\n",
       "    </tr>\n",
       "    <tr>\n",
       "      <th>287</th>\n",
       "      <td>0.449183</td>\n",
       "      <td>14301500.0</td>\n",
       "      <td>21930.0</td>\n",
       "      <td>417.5676</td>\n",
       "      <td>195.82246</td>\n",
       "      <td>9.159267</td>\n",
       "      <td>10.3</td>\n",
       "      <td>76.99398</td>\n",
       "      <td>19.696862</td>\n",
       "    </tr>\n",
       "    <tr>\n",
       "      <th>75</th>\n",
       "      <td>0.473934</td>\n",
       "      <td>2074500.0</td>\n",
       "      <td>6369.0</td>\n",
       "      <td>288.5310</td>\n",
       "      <td>117.29740</td>\n",
       "      <td>13.495710</td>\n",
       "      <td>14.0</td>\n",
       "      <td>66.18230</td>\n",
       "      <td>11.120910</td>\n",
       "    </tr>\n",
       "  </tbody>\n",
       "</table>\n",
       "</div>"
      ],
      "text/plain": [
       "     RRMEDIAN    SITE No.    max90  DRAIN_SQKM  PPTAVG_BASIN  T_AVG_BASIN  \\\n",
       "96   0.474576   2472500.0  13510.0    789.9363     154.27490    18.157630   \n",
       "200  0.343137   7167500.0  11820.0    319.6179      94.35417    13.814480   \n",
       "221  0.546771  10234500.0    623.6    236.4192      75.93198     3.865026   \n",
       "287  0.449183  14301500.0  21930.0    417.5676     195.82246     9.159267   \n",
       "75   0.473934   2074500.0   6369.0    288.5310     117.29740    13.495710   \n",
       "\n",
       "     T_AVG_SITE  RH_BASIN  MAR_PPT7100_CM  \n",
       "96         18.3  72.66047       16.444390  \n",
       "200        13.6  63.52230        7.297830  \n",
       "221         7.6  63.48558        9.642220  \n",
       "287        10.3  76.99398       19.696862  \n",
       "75         14.0  66.18230       11.120910  "
      ]
     },
     "execution_count": 32,
     "metadata": {},
     "output_type": "execute_result"
    }
   ],
   "source": [
    "df = pd.concat([y_train, X_train], axis=1)\n",
    "df.head()"
   ]
  },
  {
   "cell_type": "code",
   "execution_count": 30,
   "id": "12dda157",
   "metadata": {},
   "outputs": [
    {
     "data": {
      "text/html": [
       "<div>\n",
       "<style scoped>\n",
       "    .dataframe tbody tr th:only-of-type {\n",
       "        vertical-align: middle;\n",
       "    }\n",
       "\n",
       "    .dataframe tbody tr th {\n",
       "        vertical-align: top;\n",
       "    }\n",
       "\n",
       "    .dataframe thead th {\n",
       "        text-align: right;\n",
       "    }\n",
       "</style>\n",
       "<table border=\"1\" class=\"dataframe\">\n",
       "  <thead>\n",
       "    <tr style=\"text-align: right;\">\n",
       "      <th></th>\n",
       "      <th>DRAIN_SQKM</th>\n",
       "      <th>PPTAVG_BASIN</th>\n",
       "      <th>T_AVG_BASIN</th>\n",
       "      <th>T_AVG_SITE</th>\n",
       "      <th>RH_BASIN</th>\n",
       "      <th>MAR_PPT7100_CM</th>\n",
       "      <th>RRMEDIAN</th>\n",
       "    </tr>\n",
       "  </thead>\n",
       "  <tbody>\n",
       "    <tr>\n",
       "      <th>DRAIN_SQKM</th>\n",
       "      <td>1.000000</td>\n",
       "      <td>-0.247042</td>\n",
       "      <td>-0.030206</td>\n",
       "      <td>-0.047696</td>\n",
       "      <td>-0.085664</td>\n",
       "      <td>-0.253550</td>\n",
       "      <td>-0.021468</td>\n",
       "    </tr>\n",
       "    <tr>\n",
       "      <th>PPTAVG_BASIN</th>\n",
       "      <td>-0.247042</td>\n",
       "      <td>1.000000</td>\n",
       "      <td>0.077520</td>\n",
       "      <td>0.108814</td>\n",
       "      <td>0.557289</td>\n",
       "      <td>0.926880</td>\n",
       "      <td>-0.110353</td>\n",
       "    </tr>\n",
       "    <tr>\n",
       "      <th>T_AVG_BASIN</th>\n",
       "      <td>-0.030206</td>\n",
       "      <td>0.077520</td>\n",
       "      <td>1.000000</td>\n",
       "      <td>0.968185</td>\n",
       "      <td>0.190749</td>\n",
       "      <td>0.082471</td>\n",
       "      <td>-0.010893</td>\n",
       "    </tr>\n",
       "    <tr>\n",
       "      <th>T_AVG_SITE</th>\n",
       "      <td>-0.047696</td>\n",
       "      <td>0.108814</td>\n",
       "      <td>0.968185</td>\n",
       "      <td>1.000000</td>\n",
       "      <td>0.092357</td>\n",
       "      <td>0.147544</td>\n",
       "      <td>0.023743</td>\n",
       "    </tr>\n",
       "    <tr>\n",
       "      <th>RH_BASIN</th>\n",
       "      <td>-0.085664</td>\n",
       "      <td>0.557289</td>\n",
       "      <td>0.190749</td>\n",
       "      <td>0.092357</td>\n",
       "      <td>1.000000</td>\n",
       "      <td>0.355544</td>\n",
       "      <td>-0.168046</td>\n",
       "    </tr>\n",
       "    <tr>\n",
       "      <th>MAR_PPT7100_CM</th>\n",
       "      <td>-0.253550</td>\n",
       "      <td>0.926880</td>\n",
       "      <td>0.082471</td>\n",
       "      <td>0.147544</td>\n",
       "      <td>0.355544</td>\n",
       "      <td>1.000000</td>\n",
       "      <td>-0.108488</td>\n",
       "    </tr>\n",
       "    <tr>\n",
       "      <th>RRMEDIAN</th>\n",
       "      <td>-0.021468</td>\n",
       "      <td>-0.110353</td>\n",
       "      <td>-0.010893</td>\n",
       "      <td>0.023743</td>\n",
       "      <td>-0.168046</td>\n",
       "      <td>-0.108488</td>\n",
       "      <td>1.000000</td>\n",
       "    </tr>\n",
       "  </tbody>\n",
       "</table>\n",
       "</div>"
      ],
      "text/plain": [
       "                DRAIN_SQKM  PPTAVG_BASIN  T_AVG_BASIN  T_AVG_SITE  RH_BASIN  \\\n",
       "DRAIN_SQKM        1.000000     -0.247042    -0.030206   -0.047696 -0.085664   \n",
       "PPTAVG_BASIN     -0.247042      1.000000     0.077520    0.108814  0.557289   \n",
       "T_AVG_BASIN      -0.030206      0.077520     1.000000    0.968185  0.190749   \n",
       "T_AVG_SITE       -0.047696      0.108814     0.968185    1.000000  0.092357   \n",
       "RH_BASIN         -0.085664      0.557289     0.190749    0.092357  1.000000   \n",
       "MAR_PPT7100_CM   -0.253550      0.926880     0.082471    0.147544  0.355544   \n",
       "RRMEDIAN         -0.021468     -0.110353    -0.010893    0.023743 -0.168046   \n",
       "\n",
       "                MAR_PPT7100_CM  RRMEDIAN  \n",
       "DRAIN_SQKM           -0.253550 -0.021468  \n",
       "PPTAVG_BASIN          0.926880 -0.110353  \n",
       "T_AVG_BASIN           0.082471 -0.010893  \n",
       "T_AVG_SITE            0.147544  0.023743  \n",
       "RH_BASIN              0.355544 -0.168046  \n",
       "MAR_PPT7100_CM        1.000000 -0.108488  \n",
       "RRMEDIAN             -0.108488  1.000000  "
      ]
     },
     "execution_count": 30,
     "metadata": {},
     "output_type": "execute_result"
    }
   ],
   "source": [
    "df.corr()"
   ]
  },
  {
   "cell_type": "code",
   "execution_count": 31,
   "id": "d2d5805e",
   "metadata": {},
   "outputs": [
    {
     "data": {
      "text/plain": [
       "<AxesSubplot:>"
      ]
     },
     "execution_count": 31,
     "metadata": {},
     "output_type": "execute_result"
    },
    {
     "data": {
      "image/png": "[encoded data removed]",
      "text/plain": [
       "<Figure size 640x480 with 2 Axes>"
      ]
     },
     "metadata": {},
     "output_type": "display_data"
    }
   ],
   "source": [
    "sns.heatmap(df.corr(),annot = True)"
   ]
  },
  {
   "cell_type": "markdown",
   "id": "219ba5cc",
   "metadata": {},
   "source": [
    "# Correlation Matrix"
   ]
  },
  {
   "cell_type": "code",
   "execution_count": 34,
   "id": "91117317",
   "metadata": {},
   "outputs": [
    {
     "data": {
      "text/plain": [
       "<AxesSubplot:title={'center':'MAR_PPT7100_CM vs PPTAVG_BASIN'}, xlabel='PPTAVG_BASIN', ylabel='MAR_PPT7100_CM'>"
      ]
     },
     "execution_count": 34,
     "metadata": {},
     "output_type": "execute_result"
    },
    {
     "data": {
      "image/png": "[encoded data removed]",
      "text/plain": [
       "<Figure size 640x480 with 1 Axes>"
      ]
     },
     "metadata": {},
     "output_type": "display_data"
    }
   ],
   "source": [
    "df.plot.scatter(x='PPTAVG_BASIN', y='MAR_PPT7100_CM', title='MAR_PPT7100_CM vs PPTAVG_BASIN')"
   ]
  },
  {
   "cell_type": "markdown",
   "id": "ebba5a1e",
   "metadata": {},
   "source": [
    "## Multicolinearity (with the help of VIF)"
   ]
  },
  {
   "cell_type": "code",
   "execution_count": 41,
   "id": "78b0c69b",
   "metadata": {},
   "outputs": [
    {
     "data": {
      "text/plain": [
       "RRMEDIAN        6.793062\n",
       "DRAIN_SQKM      1.989110\n",
       "PPTAVG_BASIN    6.986957\n",
       "T_AVG_SITE      7.056073\n",
       "dtype: float64"
      ]
     },
     "execution_count": 41,
     "metadata": {},
     "output_type": "execute_result"
    }
   ],
   "source": [
    "X1 = df.drop(['MAR_PPT7100_CM', 'T_AVG_BASIN', 'RH_BASIN', 'SITE No.', 'max90'],axis=1)\n",
    "\n",
    "VIF = pd.Series([variance_inflation_factor(X1.values, i) # i = 0\n",
    "                           for i in range(X1.shape[1])],  # i=0,1,2\n",
    "                          index=X1.columns)  # column name\n",
    "VIF"
   ]
  },
  {
   "cell_type": "markdown",
   "id": "23ef0eb3",
   "metadata": {},
   "source": [
    "# Model Building"
   ]
  },
  {
   "cell_type": "markdown",
   "id": "be1b8e68",
   "metadata": {},
   "source": [
    "* Ho: There is no relationship between MAR PPT 7100cm and water precipitation, drain area and relative humidity (RH).\n",
    "                                                vs\n",
    "* Ho: There is no relationship between MAR PPT 7100cm and water precipitation, drain area and relative humidity (RH).\n",
    "    \n",
    "* Alpha = 0.05 (5%)"
   ]
  },
  {
   "cell_type": "code",
   "execution_count": 45,
   "id": "7ffea285",
   "metadata": {
    "scrolled": false
   },
   "outputs": [
    {
     "data": {
      "text/html": [
       "<table class=\"simpletable\">\n",
       "<caption>OLS Regression Results</caption>\n",
       "<tr>\n",
       "  <th>Dep. Variable:</th>     <td>MAR_PPT7100_CM</td>  <th>  R-squared:         </th> <td>   0.763</td>\n",
       "</tr>\n",
       "<tr>\n",
       "  <th>Model:</th>                   <td>OLS</td>       <th>  Adj. R-squared:    </th> <td>   0.759</td>\n",
       "</tr>\n",
       "<tr>\n",
       "  <th>Method:</th>             <td>Least Squares</td>  <th>  F-statistic:       </th> <td>   161.4</td>\n",
       "</tr>\n",
       "<tr>\n",
       "  <th>Date:</th>             <td>Tue, 28 Feb 2023</td> <th>  Prob (F-statistic):</th> <td>1.88e-61</td>\n",
       "</tr>\n",
       "<tr>\n",
       "  <th>Time:</th>                 <td>20:49:12</td>     <th>  Log-Likelihood:    </th> <td> -461.14</td>\n",
       "</tr>\n",
       "<tr>\n",
       "  <th>No. Observations:</th>      <td>   205</td>      <th>  AIC:               </th> <td>   932.3</td>\n",
       "</tr>\n",
       "<tr>\n",
       "  <th>Df Residuals:</th>          <td>   200</td>      <th>  BIC:               </th> <td>   948.9</td>\n",
       "</tr>\n",
       "<tr>\n",
       "  <th>Df Model:</th>              <td>     4</td>      <th>                     </th>     <td> </td>   \n",
       "</tr>\n",
       "<tr>\n",
       "  <th>Covariance Type:</th>      <td>nonrobust</td>    <th>                     </th>     <td> </td>   \n",
       "</tr>\n",
       "</table>\n",
       "<table class=\"simpletable\">\n",
       "<tr>\n",
       "        <td></td>          <th>coef</th>     <th>std err</th>      <th>t</th>      <th>P>|t|</th>  <th>[0.025</th>    <th>0.975]</th>  \n",
       "</tr>\n",
       "<tr>\n",
       "  <th>Intercept</th>    <td>   -1.6596</td> <td>    0.931</td> <td>   -1.783</td> <td> 0.076</td> <td>   -3.495</td> <td>    0.176</td>\n",
       "</tr>\n",
       "<tr>\n",
       "  <th>PPTAVG_BASIN</th> <td>    0.1081</td> <td>    0.005</td> <td>   23.082</td> <td> 0.000</td> <td>    0.099</td> <td>    0.117</td>\n",
       "</tr>\n",
       "<tr>\n",
       "  <th>DRAIN_SQKM</th>   <td>   -0.0006</td> <td>    0.000</td> <td>   -2.665</td> <td> 0.008</td> <td>   -0.001</td> <td>   -0.000</td>\n",
       "</tr>\n",
       "<tr>\n",
       "  <th>RRMEDIAN</th>     <td>   -0.5384</td> <td>    1.276</td> <td>   -0.422</td> <td> 0.674</td> <td>   -3.055</td> <td>    1.978</td>\n",
       "</tr>\n",
       "<tr>\n",
       "  <th>T_AVG_SITE</th>   <td>    0.0605</td> <td>    0.039</td> <td>    1.550</td> <td> 0.123</td> <td>   -0.016</td> <td>    0.138</td>\n",
       "</tr>\n",
       "</table>\n",
       "<table class=\"simpletable\">\n",
       "<tr>\n",
       "  <th>Omnibus:</th>       <td>90.610</td> <th>  Durbin-Watson:     </th> <td>   2.020</td>\n",
       "</tr>\n",
       "<tr>\n",
       "  <th>Prob(Omnibus):</th> <td> 0.000</td> <th>  Jarque-Bera (JB):  </th> <td> 283.186</td>\n",
       "</tr>\n",
       "<tr>\n",
       "  <th>Skew:</th>          <td> 1.901</td> <th>  Prob(JB):          </th> <td>3.21e-62</td>\n",
       "</tr>\n",
       "<tr>\n",
       "  <th>Kurtosis:</th>      <td> 7.325</td> <th>  Cond. No.          </th> <td>1.01e+04</td>\n",
       "</tr>\n",
       "</table><br/><br/>Notes:<br/>[1] Standard Errors assume that the covariance matrix of the errors is correctly specified.<br/>[2] The condition number is large, 1.01e+04. This might indicate that there are<br/>strong multicollinearity or other numerical problems."
      ],
      "text/plain": [
       "<class 'statsmodels.iolib.summary.Summary'>\n",
       "\"\"\"\n",
       "                            OLS Regression Results                            \n",
       "==============================================================================\n",
       "Dep. Variable:         MAR_PPT7100_CM   R-squared:                       0.763\n",
       "Model:                            OLS   Adj. R-squared:                  0.759\n",
       "Method:                 Least Squares   F-statistic:                     161.4\n",
       "Date:                Tue, 28 Feb 2023   Prob (F-statistic):           1.88e-61\n",
       "Time:                        20:49:12   Log-Likelihood:                -461.14\n",
       "No. Observations:                 205   AIC:                             932.3\n",
       "Df Residuals:                     200   BIC:                             948.9\n",
       "Df Model:                           4                                         \n",
       "Covariance Type:            nonrobust                                         \n",
       "================================================================================\n",
       "                   coef    std err          t      P>|t|      [0.025      0.975]\n",
       "--------------------------------------------------------------------------------\n",
       "Intercept       -1.6596      0.931     -1.783      0.076      -3.495       0.176\n",
       "PPTAVG_BASIN     0.1081      0.005     23.082      0.000       0.099       0.117\n",
       "DRAIN_SQKM      -0.0006      0.000     -2.665      0.008      -0.001      -0.000\n",
       "RRMEDIAN        -0.5384      1.276     -0.422      0.674      -3.055       1.978\n",
       "T_AVG_SITE       0.0605      0.039      1.550      0.123      -0.016       0.138\n",
       "==============================================================================\n",
       "Omnibus:                       90.610   Durbin-Watson:                   2.020\n",
       "Prob(Omnibus):                  0.000   Jarque-Bera (JB):              283.186\n",
       "Skew:                           1.901   Prob(JB):                     3.21e-62\n",
       "Kurtosis:                       7.325   Cond. No.                     1.01e+04\n",
       "==============================================================================\n",
       "\n",
       "Notes:\n",
       "[1] Standard Errors assume that the covariance matrix of the errors is correctly specified.\n",
       "[2] The condition number is large, 1.01e+04. This might indicate that there are\n",
       "strong multicollinearity or other numerical problems.\n",
       "\"\"\""
      ]
     },
     "execution_count": 45,
     "metadata": {},
     "output_type": "execute_result"
    }
   ],
   "source": [
    "import statsmodels.formula.api as smf\n",
    "model = smf.ols('MAR_PPT7100_CM ~ PPTAVG_BASIN + DRAIN_SQKM + RRMEDIAN + T_AVG_SITE',data=df).fit()\n",
    "model.summary()                                     "
   ]
  },
  {
   "cell_type": "markdown",
   "id": "f5fbfd6f",
   "metadata": {},
   "source": [
    "# Method 1"
   ]
  },
  {
   "cell_type": "code",
   "execution_count": 49,
   "id": "d557d09c",
   "metadata": {},
   "outputs": [
    {
     "data": {
      "text/html": [
       "<table class=\"simpletable\">\n",
       "<caption>OLS Regression Results</caption>\n",
       "<tr>\n",
       "  <th>Dep. Variable:</th>     <td>MAR_PPT7100_CM</td>  <th>  R-squared:         </th> <td>   0.755</td>\n",
       "</tr>\n",
       "<tr>\n",
       "  <th>Model:</th>                   <td>OLS</td>       <th>  Adj. R-squared:    </th> <td>   0.753</td>\n",
       "</tr>\n",
       "<tr>\n",
       "  <th>Method:</th>             <td>Least Squares</td>  <th>  F-statistic:       </th> <td>   311.3</td>\n",
       "</tr>\n",
       "<tr>\n",
       "  <th>Date:</th>             <td>Tue, 28 Feb 2023</td> <th>  Prob (F-statistic):</th> <td>2.01e-62</td>\n",
       "</tr>\n",
       "<tr>\n",
       "  <th>Time:</th>                 <td>20:51:30</td>     <th>  Log-Likelihood:    </th> <td> -464.74</td>\n",
       "</tr>\n",
       "<tr>\n",
       "  <th>No. Observations:</th>      <td>   205</td>      <th>  AIC:               </th> <td>   935.5</td>\n",
       "</tr>\n",
       "<tr>\n",
       "  <th>Df Residuals:</th>          <td>   202</td>      <th>  BIC:               </th> <td>   945.5</td>\n",
       "</tr>\n",
       "<tr>\n",
       "  <th>Df Model:</th>              <td>     2</td>      <th>                     </th>     <td> </td>   \n",
       "</tr>\n",
       "<tr>\n",
       "  <th>Covariance Type:</th>      <td>nonrobust</td>    <th>                     </th>     <td> </td>   \n",
       "</tr>\n",
       "</table>\n",
       "<table class=\"simpletable\">\n",
       "<tr>\n",
       "        <td></td>          <th>coef</th>     <th>std err</th>      <th>t</th>      <th>P>|t|</th>  <th>[0.025</th>    <th>0.975]</th>  \n",
       "</tr>\n",
       "<tr>\n",
       "  <th>Intercept</th>    <td>   -2.6000</td> <td>    0.652</td> <td>   -3.987</td> <td> 0.000</td> <td>   -3.886</td> <td>   -1.314</td>\n",
       "</tr>\n",
       "<tr>\n",
       "  <th>PPTAVG_BASIN</th> <td>    0.1113</td> <td>    0.005</td> <td>   24.546</td> <td> 0.000</td> <td>    0.102</td> <td>    0.120</td>\n",
       "</tr>\n",
       "<tr>\n",
       "  <th>T_AVG_SITE</th>   <td>    0.0484</td> <td>    0.039</td> <td>    1.235</td> <td> 0.218</td> <td>   -0.029</td> <td>    0.126</td>\n",
       "</tr>\n",
       "</table>\n",
       "<table class=\"simpletable\">\n",
       "<tr>\n",
       "  <th>Omnibus:</th>       <td>102.698</td> <th>  Durbin-Watson:     </th> <td>   2.053</td>\n",
       "</tr>\n",
       "<tr>\n",
       "  <th>Prob(Omnibus):</th> <td> 0.000</td>  <th>  Jarque-Bera (JB):  </th> <td> 375.413</td>\n",
       "</tr>\n",
       "<tr>\n",
       "  <th>Skew:</th>          <td> 2.111</td>  <th>  Prob(JB):          </th> <td>3.02e-82</td>\n",
       "</tr>\n",
       "<tr>\n",
       "  <th>Kurtosis:</th>      <td> 8.111</td>  <th>  Cond. No.          </th> <td>    486.</td>\n",
       "</tr>\n",
       "</table><br/><br/>Notes:<br/>[1] Standard Errors assume that the covariance matrix of the errors is correctly specified."
      ],
      "text/plain": [
       "<class 'statsmodels.iolib.summary.Summary'>\n",
       "\"\"\"\n",
       "                            OLS Regression Results                            \n",
       "==============================================================================\n",
       "Dep. Variable:         MAR_PPT7100_CM   R-squared:                       0.755\n",
       "Model:                            OLS   Adj. R-squared:                  0.753\n",
       "Method:                 Least Squares   F-statistic:                     311.3\n",
       "Date:                Tue, 28 Feb 2023   Prob (F-statistic):           2.01e-62\n",
       "Time:                        20:51:30   Log-Likelihood:                -464.74\n",
       "No. Observations:                 205   AIC:                             935.5\n",
       "Df Residuals:                     202   BIC:                             945.5\n",
       "Df Model:                           2                                         \n",
       "Covariance Type:            nonrobust                                         \n",
       "================================================================================\n",
       "                   coef    std err          t      P>|t|      [0.025      0.975]\n",
       "--------------------------------------------------------------------------------\n",
       "Intercept       -2.6000      0.652     -3.987      0.000      -3.886      -1.314\n",
       "PPTAVG_BASIN     0.1113      0.005     24.546      0.000       0.102       0.120\n",
       "T_AVG_SITE       0.0484      0.039      1.235      0.218      -0.029       0.126\n",
       "==============================================================================\n",
       "Omnibus:                      102.698   Durbin-Watson:                   2.053\n",
       "Prob(Omnibus):                  0.000   Jarque-Bera (JB):              375.413\n",
       "Skew:                           2.111   Prob(JB):                     3.02e-82\n",
       "Kurtosis:                       8.111   Cond. No.                         486.\n",
       "==============================================================================\n",
       "\n",
       "Notes:\n",
       "[1] Standard Errors assume that the covariance matrix of the errors is correctly specified.\n",
       "\"\"\""
      ]
     },
     "execution_count": 49,
     "metadata": {},
     "output_type": "execute_result"
    }
   ],
   "source": [
    "# removing the insignificant variable \n",
    "model2=smf.ols('MAR_PPT7100_CM ~ PPTAVG_BASIN + T_AVG_SITE',data=df).fit()\n",
    "model2.summary()"
   ]
  },
  {
   "cell_type": "markdown",
   "id": "7fa507a1",
   "metadata": {},
   "source": [
    "#####  * There is a linear relationship between Managed Aquifer Recharge Precipitation (MAR_PPT7100_CM) and Average precipitation in basin of river."
   ]
  },
  {
   "cell_type": "markdown",
   "id": "f84dfc50",
   "metadata": {},
   "source": [
    "##### * 76.3% of model accuracy, so we say model is a good fit."
   ]
  },
  {
   "cell_type": "markdown",
   "id": "77ddf455",
   "metadata": {},
   "source": [
    "##### * Y = -2.6000 + 0.1113* PPTAVG_BASIN + 0.0484* T_AVG_BASIN"
   ]
  },
  {
   "cell_type": "markdown",
   "id": "7520230d",
   "metadata": {},
   "source": [
    "# Method 2"
   ]
  },
  {
   "cell_type": "code",
   "execution_count": 50,
   "id": "85a3f945",
   "metadata": {},
   "outputs": [],
   "source": [
    "from sklearn.linear_model import LinearRegression\n",
    "lreg = LinearRegression()\n",
    "Model3= lreg.fit(X_train,y_train)"
   ]
  },
  {
   "cell_type": "code",
   "execution_count": 51,
   "id": "4598d56b",
   "metadata": {},
   "outputs": [
    {
     "data": {
      "text/plain": [
       "array([8.3036])"
      ]
     },
     "execution_count": 51,
     "metadata": {},
     "output_type": "execute_result"
    }
   ],
   "source": [
    "np.round(Model3.intercept_,4)"
   ]
  },
  {
   "cell_type": "code",
   "execution_count": 52,
   "id": "944665f1",
   "metadata": {},
   "outputs": [
    {
     "data": {
      "text/plain": [
       "array([[ 0.0000e+00, -0.0000e+00, -6.0000e-04,  1.0830e-01, -1.7720e-01,\n",
       "         3.0440e-01, -1.7010e-01, -2.5123e+00]])"
      ]
     },
     "execution_count": 52,
     "metadata": {},
     "output_type": "execute_result"
    }
   ],
   "source": [
    "np.round(Model3.coef_,4)"
   ]
  },
  {
   "cell_type": "code",
   "execution_count": 53,
   "id": "c6910bb6",
   "metadata": {},
   "outputs": [
    {
     "data": {
      "text/plain": [
       "0.843"
      ]
     },
     "execution_count": 53,
     "metadata": {},
     "output_type": "execute_result"
    }
   ],
   "source": [
    "np.round(Model3.score(X_train,y_train),3)"
   ]
  },
  {
   "cell_type": "markdown",
   "id": "9cf1b5d7",
   "metadata": {},
   "source": [
    "# Assumption of Model\n",
    "\n",
    "* Linearity\n",
    "* Normality\n",
    "* Homoscedasicity\n",
    "* Model Error has to be independently identificaly Distibuted"
   ]
  },
  {
   "cell_type": "code",
   "execution_count": 54,
   "id": "7fcaf885",
   "metadata": {},
   "outputs": [
    {
     "data": {
      "text/html": [
       "<div>\n",
       "<style scoped>\n",
       "    .dataframe tbody tr th:only-of-type {\n",
       "        vertical-align: middle;\n",
       "    }\n",
       "\n",
       "    .dataframe tbody tr th {\n",
       "        vertical-align: top;\n",
       "    }\n",
       "\n",
       "    .dataframe thead th {\n",
       "        text-align: right;\n",
       "    }\n",
       "</style>\n",
       "<table border=\"1\" class=\"dataframe\">\n",
       "  <thead>\n",
       "    <tr style=\"text-align: right;\">\n",
       "      <th></th>\n",
       "      <th>RRMEDIAN</th>\n",
       "      <th>SITE No.</th>\n",
       "      <th>max90</th>\n",
       "      <th>DRAIN_SQKM</th>\n",
       "      <th>PPTAVG_BASIN</th>\n",
       "      <th>T_AVG_BASIN</th>\n",
       "      <th>T_AVG_SITE</th>\n",
       "      <th>RH_BASIN</th>\n",
       "      <th>MAR_PPT7100_CM</th>\n",
       "    </tr>\n",
       "  </thead>\n",
       "  <tbody>\n",
       "    <tr>\n",
       "      <th>96</th>\n",
       "      <td>0.474576</td>\n",
       "      <td>2472500.0</td>\n",
       "      <td>13510.0</td>\n",
       "      <td>789.9363</td>\n",
       "      <td>154.27490</td>\n",
       "      <td>18.157630</td>\n",
       "      <td>18.3</td>\n",
       "      <td>72.66047</td>\n",
       "      <td>16.444390</td>\n",
       "    </tr>\n",
       "    <tr>\n",
       "      <th>200</th>\n",
       "      <td>0.343137</td>\n",
       "      <td>7167500.0</td>\n",
       "      <td>11820.0</td>\n",
       "      <td>319.6179</td>\n",
       "      <td>94.35417</td>\n",
       "      <td>13.814480</td>\n",
       "      <td>13.6</td>\n",
       "      <td>63.52230</td>\n",
       "      <td>7.297830</td>\n",
       "    </tr>\n",
       "    <tr>\n",
       "      <th>221</th>\n",
       "      <td>0.546771</td>\n",
       "      <td>10234500.0</td>\n",
       "      <td>623.6</td>\n",
       "      <td>236.4192</td>\n",
       "      <td>75.93198</td>\n",
       "      <td>3.865026</td>\n",
       "      <td>7.6</td>\n",
       "      <td>63.48558</td>\n",
       "      <td>9.642220</td>\n",
       "    </tr>\n",
       "    <tr>\n",
       "      <th>287</th>\n",
       "      <td>0.449183</td>\n",
       "      <td>14301500.0</td>\n",
       "      <td>21930.0</td>\n",
       "      <td>417.5676</td>\n",
       "      <td>195.82246</td>\n",
       "      <td>9.159267</td>\n",
       "      <td>10.3</td>\n",
       "      <td>76.99398</td>\n",
       "      <td>19.696862</td>\n",
       "    </tr>\n",
       "    <tr>\n",
       "      <th>75</th>\n",
       "      <td>0.473934</td>\n",
       "      <td>2074500.0</td>\n",
       "      <td>6369.0</td>\n",
       "      <td>288.5310</td>\n",
       "      <td>117.29740</td>\n",
       "      <td>13.495710</td>\n",
       "      <td>14.0</td>\n",
       "      <td>66.18230</td>\n",
       "      <td>11.120910</td>\n",
       "    </tr>\n",
       "  </tbody>\n",
       "</table>\n",
       "</div>"
      ],
      "text/plain": [
       "     RRMEDIAN    SITE No.    max90  DRAIN_SQKM  PPTAVG_BASIN  T_AVG_BASIN  \\\n",
       "96   0.474576   2472500.0  13510.0    789.9363     154.27490    18.157630   \n",
       "200  0.343137   7167500.0  11820.0    319.6179      94.35417    13.814480   \n",
       "221  0.546771  10234500.0    623.6    236.4192      75.93198     3.865026   \n",
       "287  0.449183  14301500.0  21930.0    417.5676     195.82246     9.159267   \n",
       "75   0.473934   2074500.0   6369.0    288.5310     117.29740    13.495710   \n",
       "\n",
       "     T_AVG_SITE  RH_BASIN  MAR_PPT7100_CM  \n",
       "96         18.3  72.66047       16.444390  \n",
       "200        13.6  63.52230        7.297830  \n",
       "221         7.6  63.48558        9.642220  \n",
       "287        10.3  76.99398       19.696862  \n",
       "75         14.0  66.18230       11.120910  "
      ]
     },
     "execution_count": 54,
     "metadata": {},
     "output_type": "execute_result"
    }
   ],
   "source": [
    "df.head()"
   ]
  },
  {
   "cell_type": "code",
   "execution_count": 56,
   "id": "6db37a0c",
   "metadata": {},
   "outputs": [
    {
     "data": {
      "text/plain": [
       "15.45651637"
      ]
     },
     "execution_count": 56,
     "metadata": {},
     "output_type": "execute_result"
    }
   ],
   "source": [
    "Y = -2.6000 + 0.1113*154.27490 + 0.0484*18.3\n",
    "Y"
   ]
  },
  {
   "cell_type": "code",
   "execution_count": 57,
   "id": "1902a8d6",
   "metadata": {},
   "outputs": [
    {
     "data": {
      "text/html": [
       "<div>\n",
       "<style scoped>\n",
       "    .dataframe tbody tr th:only-of-type {\n",
       "        vertical-align: middle;\n",
       "    }\n",
       "\n",
       "    .dataframe tbody tr th {\n",
       "        vertical-align: top;\n",
       "    }\n",
       "\n",
       "    .dataframe thead th {\n",
       "        text-align: right;\n",
       "    }\n",
       "</style>\n",
       "<table border=\"1\" class=\"dataframe\">\n",
       "  <thead>\n",
       "    <tr style=\"text-align: right;\">\n",
       "      <th></th>\n",
       "      <th>RRMEDIAN</th>\n",
       "      <th>SITE No.</th>\n",
       "      <th>max90</th>\n",
       "      <th>DRAIN_SQKM</th>\n",
       "      <th>PPTAVG_BASIN</th>\n",
       "      <th>T_AVG_BASIN</th>\n",
       "      <th>T_AVG_SITE</th>\n",
       "      <th>RH_BASIN</th>\n",
       "      <th>MAR_PPT7100_CM</th>\n",
       "      <th>fitted_value</th>\n",
       "      <th>residual</th>\n",
       "    </tr>\n",
       "  </thead>\n",
       "  <tbody>\n",
       "    <tr>\n",
       "      <th>96</th>\n",
       "      <td>0.474576</td>\n",
       "      <td>2472500.0</td>\n",
       "      <td>13510.0</td>\n",
       "      <td>789.9363</td>\n",
       "      <td>154.27490</td>\n",
       "      <td>18.157630</td>\n",
       "      <td>18.3</td>\n",
       "      <td>72.66047</td>\n",
       "      <td>16.444390</td>\n",
       "      <td>15.462369</td>\n",
       "      <td>0.982021</td>\n",
       "    </tr>\n",
       "    <tr>\n",
       "      <th>200</th>\n",
       "      <td>0.343137</td>\n",
       "      <td>7167500.0</td>\n",
       "      <td>11820.0</td>\n",
       "      <td>319.6179</td>\n",
       "      <td>94.35417</td>\n",
       "      <td>13.814480</td>\n",
       "      <td>13.6</td>\n",
       "      <td>63.52230</td>\n",
       "      <td>7.297830</td>\n",
       "      <td>8.563529</td>\n",
       "      <td>-1.265699</td>\n",
       "    </tr>\n",
       "    <tr>\n",
       "      <th>221</th>\n",
       "      <td>0.546771</td>\n",
       "      <td>10234500.0</td>\n",
       "      <td>623.6</td>\n",
       "      <td>236.4192</td>\n",
       "      <td>75.93198</td>\n",
       "      <td>3.865026</td>\n",
       "      <td>7.6</td>\n",
       "      <td>63.48558</td>\n",
       "      <td>9.642220</td>\n",
       "      <td>6.221927</td>\n",
       "      <td>3.420293</td>\n",
       "    </tr>\n",
       "    <tr>\n",
       "      <th>287</th>\n",
       "      <td>0.449183</td>\n",
       "      <td>14301500.0</td>\n",
       "      <td>21930.0</td>\n",
       "      <td>417.5676</td>\n",
       "      <td>195.82246</td>\n",
       "      <td>9.159267</td>\n",
       "      <td>10.3</td>\n",
       "      <td>76.99398</td>\n",
       "      <td>19.696862</td>\n",
       "      <td>19.700577</td>\n",
       "      <td>-0.003715</td>\n",
       "    </tr>\n",
       "    <tr>\n",
       "      <th>75</th>\n",
       "      <td>0.473934</td>\n",
       "      <td>2074500.0</td>\n",
       "      <td>6369.0</td>\n",
       "      <td>288.5310</td>\n",
       "      <td>117.29740</td>\n",
       "      <td>13.495710</td>\n",
       "      <td>14.0</td>\n",
       "      <td>66.18230</td>\n",
       "      <td>11.120910</td>\n",
       "      <td>11.137263</td>\n",
       "      <td>-0.016353</td>\n",
       "    </tr>\n",
       "  </tbody>\n",
       "</table>\n",
       "</div>"
      ],
      "text/plain": [
       "     RRMEDIAN    SITE No.    max90  DRAIN_SQKM  PPTAVG_BASIN  T_AVG_BASIN  \\\n",
       "96   0.474576   2472500.0  13510.0    789.9363     154.27490    18.157630   \n",
       "200  0.343137   7167500.0  11820.0    319.6179      94.35417    13.814480   \n",
       "221  0.546771  10234500.0    623.6    236.4192      75.93198     3.865026   \n",
       "287  0.449183  14301500.0  21930.0    417.5676     195.82246     9.159267   \n",
       "75   0.473934   2074500.0   6369.0    288.5310     117.29740    13.495710   \n",
       "\n",
       "     T_AVG_SITE  RH_BASIN  MAR_PPT7100_CM  fitted_value  residual  \n",
       "96         18.3  72.66047       16.444390     15.462369  0.982021  \n",
       "200        13.6  63.52230        7.297830      8.563529 -1.265699  \n",
       "221         7.6  63.48558        9.642220      6.221927  3.420293  \n",
       "287        10.3  76.99398       19.696862     19.700577 -0.003715  \n",
       "75         14.0  66.18230       11.120910     11.137263 -0.016353  "
      ]
     },
     "execution_count": 57,
     "metadata": {},
     "output_type": "execute_result"
    }
   ],
   "source": [
    "df['fitted_value']=model2.fittedvalues #Predicted Value\n",
    "df['residual']=model2.resid  #Error\n",
    "df.head()"
   ]
  },
  {
   "cell_type": "markdown",
   "id": "719eaf43",
   "metadata": {},
   "source": [
    "# 1.Linearity"
   ]
  },
  {
   "cell_type": "code",
   "execution_count": 58,
   "id": "0f684547",
   "metadata": {},
   "outputs": [
    {
     "data": {
      "text/plain": [
       "<AxesSubplot:title={'center':'MAR_PPT7100_CM vs PPTAVG_BASIN'}, xlabel='PPTAVG_BASIN', ylabel='MAR_PPT7100_CM'>"
      ]
     },
     "execution_count": 58,
     "metadata": {},
     "output_type": "execute_result"
    },
    {
     "data": {
      "image/png": "[encoded data removed]",
      "text/plain": [
       "<Figure size 640x480 with 1 Axes>"
      ]
     },
     "metadata": {},
     "output_type": "display_data"
    }
   ],
   "source": [
    "df.plot.scatter(x='PPTAVG_BASIN', y='MAR_PPT7100_CM', title='MAR_PPT7100_CM vs PPTAVG_BASIN')"
   ]
  },
  {
   "cell_type": "markdown",
   "id": "4a7e7207",
   "metadata": {},
   "source": [
    "# 2. Homoscedasicity"
   ]
  },
  {
   "cell_type": "code",
   "execution_count": 59,
   "id": "b61c2a94",
   "metadata": {},
   "outputs": [
    {
     "data": {
      "text/plain": [
       "<AxesSubplot:xlabel='fitted_value', ylabel='residual'>"
      ]
     },
     "execution_count": 59,
     "metadata": {},
     "output_type": "execute_result"
    },
    {
     "data": {
      "image/png": "[encoded data removed]",
      "text/plain": [
       "<Figure size 640x480 with 1 Axes>"
      ]
     },
     "metadata": {},
     "output_type": "display_data"
    }
   ],
   "source": [
    "sns.scatterplot(x='fitted_value', y='residual',data=df)"
   ]
  },
  {
   "cell_type": "markdown",
   "id": "ed7509c8",
   "metadata": {},
   "source": [
    "# 3.Normality"
   ]
  },
  {
   "cell_type": "code",
   "execution_count": 60,
   "id": "2f1a3a07",
   "metadata": {},
   "outputs": [
    {
     "data": {
      "image/png": "[encoded data removed]",
      "text/plain": [
       "<Figure size 640x480 with 1 Axes>"
      ]
     },
     "metadata": {},
     "output_type": "display_data"
    }
   ],
   "source": [
    "import statsmodels.api as sm\n",
    "fig = sm.qqplot(df['residual'], fit=True, line='s') # s indicate standardized line\n",
    "plt.show()"
   ]
  },
  {
   "cell_type": "markdown",
   "id": "2992c7c7",
   "metadata": {},
   "source": [
    "# 4.Model Error are IID "
   ]
  },
  {
   "cell_type": "code",
   "execution_count": 61,
   "id": "2966dfbb",
   "metadata": {},
   "outputs": [
    {
     "data": {
      "text/plain": [
       "<AxesSubplot:ylabel='Frequency'>"
      ]
     },
     "execution_count": 61,
     "metadata": {},
     "output_type": "execute_result"
    },
    {
     "data": {
      "image/png": "[encoded data removed]",
      "text/plain": [
       "<Figure size 640x480 with 1 Axes>"
      ]
     },
     "metadata": {},
     "output_type": "display_data"
    }
   ],
   "source": [
    "df['residual'].plot.hist()"
   ]
  },
  {
   "cell_type": "markdown",
   "id": "6008a5d5",
   "metadata": {},
   "source": [
    "# Prediction on Test Data (unseen data)"
   ]
  },
  {
   "cell_type": "code",
   "execution_count": 62,
   "id": "3cadfcc7",
   "metadata": {},
   "outputs": [
    {
     "data": {
      "text/html": [
       "<div>\n",
       "<style scoped>\n",
       "    .dataframe tbody tr th:only-of-type {\n",
       "        vertical-align: middle;\n",
       "    }\n",
       "\n",
       "    .dataframe tbody tr th {\n",
       "        vertical-align: top;\n",
       "    }\n",
       "\n",
       "    .dataframe thead th {\n",
       "        text-align: right;\n",
       "    }\n",
       "</style>\n",
       "<table border=\"1\" class=\"dataframe\">\n",
       "  <thead>\n",
       "    <tr style=\"text-align: right;\">\n",
       "      <th></th>\n",
       "      <th>SITE No.</th>\n",
       "      <th>max90</th>\n",
       "      <th>DRAIN_SQKM</th>\n",
       "      <th>PPTAVG_BASIN</th>\n",
       "      <th>T_AVG_BASIN</th>\n",
       "      <th>T_AVG_SITE</th>\n",
       "      <th>RH_BASIN</th>\n",
       "      <th>RRMEDIAN</th>\n",
       "      <th>MAR_PPT7100_CM</th>\n",
       "    </tr>\n",
       "  </thead>\n",
       "  <tbody>\n",
       "    <tr>\n",
       "      <th>130</th>\n",
       "      <td>4045500.0</td>\n",
       "      <td>5741.0</td>\n",
       "      <td>1909.5920</td>\n",
       "      <td>82.79437</td>\n",
       "      <td>4.799826</td>\n",
       "      <td>4.5</td>\n",
       "      <td>74.41373</td>\n",
       "      <td>0.250000</td>\n",
       "      <td>5.653332</td>\n",
       "    </tr>\n",
       "    <tr>\n",
       "      <th>214</th>\n",
       "      <td>8267500.0</td>\n",
       "      <td>288.4</td>\n",
       "      <td>96.2577</td>\n",
       "      <td>72.44487</td>\n",
       "      <td>2.883262</td>\n",
       "      <td>5.2</td>\n",
       "      <td>63.48558</td>\n",
       "      <td>0.514750</td>\n",
       "      <td>7.781786</td>\n",
       "    </tr>\n",
       "    <tr>\n",
       "      <th>127</th>\n",
       "      <td>3574500.0</td>\n",
       "      <td>24350.0</td>\n",
       "      <td>813.8025</td>\n",
       "      <td>151.29270</td>\n",
       "      <td>14.415350</td>\n",
       "      <td>15.2</td>\n",
       "      <td>71.37607</td>\n",
       "      <td>0.545012</td>\n",
       "      <td>16.916710</td>\n",
       "    </tr>\n",
       "    <tr>\n",
       "      <th>126</th>\n",
       "      <td>3504000.0</td>\n",
       "      <td>2551.0</td>\n",
       "      <td>134.5167</td>\n",
       "      <td>195.82246</td>\n",
       "      <td>10.832940</td>\n",
       "      <td>10.9</td>\n",
       "      <td>70.27663</td>\n",
       "      <td>0.371034</td>\n",
       "      <td>19.696862</td>\n",
       "    </tr>\n",
       "    <tr>\n",
       "      <th>39</th>\n",
       "      <td>1544500.0</td>\n",
       "      <td>5562.0</td>\n",
       "      <td>355.0644</td>\n",
       "      <td>106.34490</td>\n",
       "      <td>7.229384</td>\n",
       "      <td>8.1</td>\n",
       "      <td>66.68005</td>\n",
       "      <td>0.621076</td>\n",
       "      <td>8.713106</td>\n",
       "    </tr>\n",
       "  </tbody>\n",
       "</table>\n",
       "</div>"
      ],
      "text/plain": [
       "      SITE No.    max90  DRAIN_SQKM  PPTAVG_BASIN  T_AVG_BASIN  T_AVG_SITE  \\\n",
       "130  4045500.0   5741.0   1909.5920      82.79437     4.799826         4.5   \n",
       "214  8267500.0    288.4     96.2577      72.44487     2.883262         5.2   \n",
       "127  3574500.0  24350.0    813.8025     151.29270    14.415350        15.2   \n",
       "126  3504000.0   2551.0    134.5167     195.82246    10.832940        10.9   \n",
       "39   1544500.0   5562.0    355.0644     106.34490     7.229384         8.1   \n",
       "\n",
       "     RH_BASIN  RRMEDIAN  MAR_PPT7100_CM  \n",
       "130  74.41373  0.250000        5.653332  \n",
       "214  63.48558  0.514750        7.781786  \n",
       "127  71.37607  0.545012       16.916710  \n",
       "126  70.27663  0.371034       19.696862  \n",
       "39   66.68005  0.621076        8.713106  "
      ]
     },
     "execution_count": 62,
     "metadata": {},
     "output_type": "execute_result"
    }
   ],
   "source": [
    "df_test=pd.concat([X_test,y_test],axis=1)\n",
    "\n",
    "df_test.head()"
   ]
  },
  {
   "cell_type": "code",
   "execution_count": 63,
   "id": "022f323c",
   "metadata": {},
   "outputs": [
    {
     "data": {
      "text/html": [
       "<div>\n",
       "<style scoped>\n",
       "    .dataframe tbody tr th:only-of-type {\n",
       "        vertical-align: middle;\n",
       "    }\n",
       "\n",
       "    .dataframe tbody tr th {\n",
       "        vertical-align: top;\n",
       "    }\n",
       "\n",
       "    .dataframe thead th {\n",
       "        text-align: right;\n",
       "    }\n",
       "</style>\n",
       "<table border=\"1\" class=\"dataframe\">\n",
       "  <thead>\n",
       "    <tr style=\"text-align: right;\">\n",
       "      <th></th>\n",
       "      <th>SITE No.</th>\n",
       "      <th>max90</th>\n",
       "      <th>DRAIN_SQKM</th>\n",
       "      <th>PPTAVG_BASIN</th>\n",
       "      <th>T_AVG_BASIN</th>\n",
       "      <th>T_AVG_SITE</th>\n",
       "      <th>RH_BASIN</th>\n",
       "      <th>RRMEDIAN</th>\n",
       "      <th>MAR_PPT7100_CM</th>\n",
       "      <th>Prediction</th>\n",
       "    </tr>\n",
       "  </thead>\n",
       "  <tbody>\n",
       "    <tr>\n",
       "      <th>130</th>\n",
       "      <td>4045500.0</td>\n",
       "      <td>5741.0</td>\n",
       "      <td>1909.5920</td>\n",
       "      <td>82.79437</td>\n",
       "      <td>4.799826</td>\n",
       "      <td>4.5</td>\n",
       "      <td>74.41373</td>\n",
       "      <td>0.250000</td>\n",
       "      <td>5.653332</td>\n",
       "      <td>6.835808</td>\n",
       "    </tr>\n",
       "    <tr>\n",
       "      <th>214</th>\n",
       "      <td>8267500.0</td>\n",
       "      <td>288.4</td>\n",
       "      <td>96.2577</td>\n",
       "      <td>72.44487</td>\n",
       "      <td>2.883262</td>\n",
       "      <td>5.2</td>\n",
       "      <td>63.48558</td>\n",
       "      <td>0.514750</td>\n",
       "      <td>7.781786</td>\n",
       "      <td>5.717459</td>\n",
       "    </tr>\n",
       "    <tr>\n",
       "      <th>127</th>\n",
       "      <td>3574500.0</td>\n",
       "      <td>24350.0</td>\n",
       "      <td>813.8025</td>\n",
       "      <td>151.29270</td>\n",
       "      <td>14.415350</td>\n",
       "      <td>15.2</td>\n",
       "      <td>71.37607</td>\n",
       "      <td>0.545012</td>\n",
       "      <td>16.916710</td>\n",
       "      <td>14.980213</td>\n",
       "    </tr>\n",
       "    <tr>\n",
       "      <th>126</th>\n",
       "      <td>3504000.0</td>\n",
       "      <td>2551.0</td>\n",
       "      <td>134.5167</td>\n",
       "      <td>195.82246</td>\n",
       "      <td>10.832940</td>\n",
       "      <td>10.9</td>\n",
       "      <td>70.27663</td>\n",
       "      <td>0.371034</td>\n",
       "      <td>19.696862</td>\n",
       "      <td>19.729635</td>\n",
       "    </tr>\n",
       "    <tr>\n",
       "      <th>39</th>\n",
       "      <td>1544500.0</td>\n",
       "      <td>5562.0</td>\n",
       "      <td>355.0644</td>\n",
       "      <td>106.34490</td>\n",
       "      <td>7.229384</td>\n",
       "      <td>8.1</td>\n",
       "      <td>66.68005</td>\n",
       "      <td>0.621076</td>\n",
       "      <td>8.713106</td>\n",
       "      <td>9.632134</td>\n",
       "    </tr>\n",
       "  </tbody>\n",
       "</table>\n",
       "</div>"
      ],
      "text/plain": [
       "      SITE No.    max90  DRAIN_SQKM  PPTAVG_BASIN  T_AVG_BASIN  T_AVG_SITE  \\\n",
       "130  4045500.0   5741.0   1909.5920      82.79437     4.799826         4.5   \n",
       "214  8267500.0    288.4     96.2577      72.44487     2.883262         5.2   \n",
       "127  3574500.0  24350.0    813.8025     151.29270    14.415350        15.2   \n",
       "126  3504000.0   2551.0    134.5167     195.82246    10.832940        10.9   \n",
       "39   1544500.0   5562.0    355.0644     106.34490     7.229384         8.1   \n",
       "\n",
       "     RH_BASIN  RRMEDIAN  MAR_PPT7100_CM  Prediction  \n",
       "130  74.41373  0.250000        5.653332    6.835808  \n",
       "214  63.48558  0.514750        7.781786    5.717459  \n",
       "127  71.37607  0.545012       16.916710   14.980213  \n",
       "126  70.27663  0.371034       19.696862   19.729635  \n",
       "39   66.68005  0.621076        8.713106    9.632134  "
      ]
     },
     "execution_count": 63,
     "metadata": {},
     "output_type": "execute_result"
    }
   ],
   "source": [
    "df_test['Prediction']=model2.predict(df_test) # predict = all row prediction ( Auto )\n",
    "df_test.head()"
   ]
  },
  {
   "cell_type": "code",
   "execution_count": 65,
   "id": "ab07948a",
   "metadata": {},
   "outputs": [
    {
     "data": {
      "text/plain": [
       "6.832813381000001"
      ]
     },
     "execution_count": 65,
     "metadata": {},
     "output_type": "execute_result"
    }
   ],
   "source": [
    "Y = -2.6000 + 0.1113*82.79437 + 0.0484*4.5    # one row prediction ( Manual)\n",
    "Y"
   ]
  },
  {
   "cell_type": "markdown",
   "id": "61ed8558",
   "metadata": {},
   "source": [
    "# Test"
   ]
  },
  {
   "cell_type": "code",
   "execution_count": 67,
   "id": "d81b83a9",
   "metadata": {},
   "outputs": [
    {
     "name": "stdout",
     "output_type": "stream",
     "text": [
      "R2 score for model Performance on Test 0.89\n"
     ]
    }
   ],
   "source": [
    "from sklearn.metrics import r2_score\n",
    "r2 = r2_score(df_test.MAR_PPT7100_CM, df_test.Prediction)\n",
    "print('R2 score for model Performance on Test', np.round(r2,2))"
   ]
  },
  {
   "cell_type": "markdown",
   "id": "d688695a",
   "metadata": {},
   "source": [
    "# Train"
   ]
  },
  {
   "cell_type": "code",
   "execution_count": 68,
   "id": "7e64668d",
   "metadata": {},
   "outputs": [
    {
     "name": "stdout",
     "output_type": "stream",
     "text": [
      "R2 score for model Performance on Test 0.76\n"
     ]
    }
   ],
   "source": [
    "from sklearn.metrics import r2_score\n",
    "r2 = r2_score(df.MAR_PPT7100_CM, df.fitted_value)\n",
    "print('R2 score for model Performance on Test', np.round(r2,2))"
   ]
  },
  {
   "cell_type": "markdown",
   "id": "3f96d301",
   "metadata": {},
   "source": [
    "* Model is good fit on Train dataset  & Performance of model on Test data is also good fit "
   ]
  },
  {
   "cell_type": "markdown",
   "id": "b1923476",
   "metadata": {},
   "source": [
    "# Loss Function - RMSE"
   ]
  },
  {
   "cell_type": "code",
   "execution_count": 69,
   "id": "0fbc62f4",
   "metadata": {},
   "outputs": [
    {
     "name": "stdout",
     "output_type": "stream",
     "text": [
      "RMSE 2.34\n"
     ]
    }
   ],
   "source": [
    "import math\n",
    "from sklearn.metrics import mean_squared_error\n",
    "# calculate the mean squared error\n",
    "model_mse = mean_squared_error(df['MAR_PPT7100_CM'], df['fitted_value'])\n",
    "model_rmse = math.sqrt(model_mse)\n",
    "print(\"RMSE {:.3}\".format(model_rmse))"
   ]
  },
  {
   "cell_type": "code",
   "execution_count": 70,
   "id": "9851614e",
   "metadata": {},
   "outputs": [
    {
     "name": "stdout",
     "output_type": "stream",
     "text": [
      "RMSE 1.53\n"
     ]
    }
   ],
   "source": [
    "import math\n",
    "from sklearn.metrics import mean_squared_error\n",
    "# calculate the mean squared error\n",
    "model_mse = mean_squared_error(df_test['MAR_PPT7100_CM'], df_test['Prediction'])\n",
    "model_rmse = math.sqrt(model_mse)\n",
    "print(\"RMSE {:.3}\".format(model_rmse))"
   ]
  },
  {
   "cell_type": "markdown",
   "id": "31683d2d",
   "metadata": {},
   "source": [
    "# Prediction for Live Data  -- Population"
   ]
  },
  {
   "cell_type": "code",
   "execution_count": 77,
   "id": "1cd27da2",
   "metadata": {},
   "outputs": [
    {
     "data": {
      "text/html": [
       "<div>\n",
       "<style scoped>\n",
       "    .dataframe tbody tr th:only-of-type {\n",
       "        vertical-align: middle;\n",
       "    }\n",
       "\n",
       "    .dataframe tbody tr th {\n",
       "        vertical-align: top;\n",
       "    }\n",
       "\n",
       "    .dataframe thead th {\n",
       "        text-align: right;\n",
       "    }\n",
       "</style>\n",
       "<table border=\"1\" class=\"dataframe\">\n",
       "  <thead>\n",
       "    <tr style=\"text-align: right;\">\n",
       "      <th></th>\n",
       "      <th>SITE No.</th>\n",
       "      <th>max90</th>\n",
       "      <th>DRAIN_SQKM</th>\n",
       "      <th>PPTAVG_BASIN</th>\n",
       "      <th>T_AVG_BASIN</th>\n",
       "      <th>T_AVG_SITE</th>\n",
       "      <th>RH_BASIN</th>\n",
       "      <th>RRMEDIAN</th>\n",
       "    </tr>\n",
       "  </thead>\n",
       "  <tbody>\n",
       "    <tr>\n",
       "      <th>0</th>\n",
       "      <td>1121000</td>\n",
       "      <td>1226.0</td>\n",
       "      <td>70.2537</td>\n",
       "      <td>128.43950</td>\n",
       "      <td>8.520300</td>\n",
       "      <td>8.8</td>\n",
       "      <td>66.0000</td>\n",
       "      <td>0.3380</td>\n",
       "    </tr>\n",
       "    <tr>\n",
       "      <th>1</th>\n",
       "      <td>10258500</td>\n",
       "      <td>672.9</td>\n",
       "      <td>241.5123</td>\n",
       "      <td>66.98854</td>\n",
       "      <td>15.680500</td>\n",
       "      <td>20.5</td>\n",
       "      <td>63.4855</td>\n",
       "      <td>0.4514</td>\n",
       "    </tr>\n",
       "    <tr>\n",
       "      <th>2</th>\n",
       "      <td>12115000</td>\n",
       "      <td>3610.0</td>\n",
       "      <td>102.7983</td>\n",
       "      <td>195.82246</td>\n",
       "      <td>4.923145</td>\n",
       "      <td>7.0</td>\n",
       "      <td>75.4032</td>\n",
       "      <td>0.4725</td>\n",
       "    </tr>\n",
       "  </tbody>\n",
       "</table>\n",
       "</div>"
      ],
      "text/plain": [
       "   SITE No.   max90  DRAIN_SQKM  PPTAVG_BASIN  T_AVG_BASIN  T_AVG_SITE  \\\n",
       "0   1121000  1226.0     70.2537     128.43950     8.520300         8.8   \n",
       "1  10258500   672.9    241.5123      66.98854    15.680500        20.5   \n",
       "2  12115000  3610.0    102.7983     195.82246     4.923145         7.0   \n",
       "\n",
       "   RH_BASIN  RRMEDIAN  \n",
       "0   66.0000    0.3380  \n",
       "1   63.4855    0.4514  \n",
       "2   75.4032    0.4725  "
      ]
     },
     "execution_count": 77,
     "metadata": {},
     "output_type": "execute_result"
    }
   ],
   "source": [
    "d1 = {'SITE No.':pd.Series([1121000, 10258500, 12115000]),\n",
    "      'max90'   :pd.Series([1226, 672.9, 3610]),\n",
    "      'DRAIN_SQKM'   :pd.Series([70.2537, 241.5123, 102.7983]),\n",
    "      'PPTAVG_BASIN':pd.Series([128.4395, 66.98854, 195.82246]),\n",
    "      'T_AVG_BASIN'   :pd.Series([8.5203, 15.680500, 4.923145]),\n",
    "      'T_AVG_SITE'   :pd.Series([8.8, 20.5, 7.0]),\n",
    "      'RH_BASIN'   :pd.Series([66.00, 63.4855, 75.4032]),\n",
    "      'RRMEDIAN'   :pd.Series([0.338, 0.4514, 0.4725])  }\n",
    "\n",
    "live = pd.DataFrame(d1)\n",
    "live"
   ]
  },
  {
   "cell_type": "code",
   "execution_count": 78,
   "id": "3f67ae4e",
   "metadata": {},
   "outputs": [
    {
     "data": {
      "text/html": [
       "<div>\n",
       "<style scoped>\n",
       "    .dataframe tbody tr th:only-of-type {\n",
       "        vertical-align: middle;\n",
       "    }\n",
       "\n",
       "    .dataframe tbody tr th {\n",
       "        vertical-align: top;\n",
       "    }\n",
       "\n",
       "    .dataframe thead th {\n",
       "        text-align: right;\n",
       "    }\n",
       "</style>\n",
       "<table border=\"1\" class=\"dataframe\">\n",
       "  <thead>\n",
       "    <tr style=\"text-align: right;\">\n",
       "      <th></th>\n",
       "      <th>SITE No.</th>\n",
       "      <th>max90</th>\n",
       "      <th>DRAIN_SQKM</th>\n",
       "      <th>PPTAVG_BASIN</th>\n",
       "      <th>T_AVG_BASIN</th>\n",
       "      <th>T_AVG_SITE</th>\n",
       "      <th>RH_BASIN</th>\n",
       "      <th>RRMEDIAN</th>\n",
       "      <th>future Prediction (MAR_PPT7100_CM)</th>\n",
       "    </tr>\n",
       "  </thead>\n",
       "  <tbody>\n",
       "    <tr>\n",
       "      <th>0</th>\n",
       "      <td>1121000</td>\n",
       "      <td>1226.0</td>\n",
       "      <td>70.2537</td>\n",
       "      <td>128.43950</td>\n",
       "      <td>8.520300</td>\n",
       "      <td>8.8</td>\n",
       "      <td>66.0000</td>\n",
       "      <td>0.3380</td>\n",
       "      <td>12.53</td>\n",
       "    </tr>\n",
       "    <tr>\n",
       "      <th>1</th>\n",
       "      <td>10258500</td>\n",
       "      <td>672.9</td>\n",
       "      <td>241.5123</td>\n",
       "      <td>66.98854</td>\n",
       "      <td>15.680500</td>\n",
       "      <td>20.5</td>\n",
       "      <td>63.4855</td>\n",
       "      <td>0.4514</td>\n",
       "      <td>6.44</td>\n",
       "    </tr>\n",
       "    <tr>\n",
       "      <th>2</th>\n",
       "      <td>12115000</td>\n",
       "      <td>3610.0</td>\n",
       "      <td>102.7983</td>\n",
       "      <td>195.82246</td>\n",
       "      <td>4.923145</td>\n",
       "      <td>7.0</td>\n",
       "      <td>75.4032</td>\n",
       "      <td>0.4725</td>\n",
       "      <td>19.62</td>\n",
       "    </tr>\n",
       "  </tbody>\n",
       "</table>\n",
       "</div>"
      ],
      "text/plain": [
       "   SITE No.   max90  DRAIN_SQKM  PPTAVG_BASIN  T_AVG_BASIN  T_AVG_SITE  \\\n",
       "0   1121000  1226.0     70.2537     128.43950     8.520300         8.8   \n",
       "1  10258500   672.9    241.5123      66.98854    15.680500        20.5   \n",
       "2  12115000  3610.0    102.7983     195.82246     4.923145         7.0   \n",
       "\n",
       "   RH_BASIN  RRMEDIAN  future Prediction (MAR_PPT7100_CM)  \n",
       "0   66.0000    0.3380                               12.53  \n",
       "1   63.4855    0.4514                                6.44  \n",
       "2   75.4032    0.4725                               19.62  "
      ]
     },
     "execution_count": 78,
     "metadata": {},
     "output_type": "execute_result"
    }
   ],
   "source": [
    "live['future Prediction (MAR_PPT7100_CM)']=np.round(model.predict(live),2)\n",
    "live"
   ]
  },
  {
   "cell_type": "markdown",
   "id": "2422023e",
   "metadata": {},
   "source": [
    "## Thank You"
   ]
  }
 ],
 "metadata": {
  "kernelspec": {
   "display_name": "Python 3 (ipykernel)",
   "language": "python",
   "name": "python3"
  },
  "language_info": {
   "codemirror_mode": {
    "name": "ipython",
    "version": 3
   },
   "file_extension": ".py",
   "mimetype": "text/x-python",
   "name": "python",
   "nbconvert_exporter": "python",
   "pygments_lexer": "ipython3",
   "version": "3.9.13"
  }
 },
 "nbformat": 4,
 "nbformat_minor": 5
}
